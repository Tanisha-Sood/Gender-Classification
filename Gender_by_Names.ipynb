{
  "cells": [
    {
      "cell_type": "code",
      "execution_count": 1,
      "id": "219923ef",
      "metadata": {
        "id": "219923ef"
      },
      "outputs": [],
      "source": [
        "import pandas as pd\n",
        "import numpy as np\n",
        "import joblib\n",
        "from sklearn.model_selection import train_test_split\n",
        "from sklearn.feature_extraction.text import CountVectorizer\n",
        "from sklearn.feature_extraction import DictVectorizer"
      ]
    },
    {
      "cell_type": "code",
      "execution_count": 2,
      "id": "31c42bd6",
      "metadata": {
        "id": "31c42bd6"
      },
      "outputs": [],
      "source": [
        "df = pd.read_csv(\"/content/Names_dataset.csv\")"
      ]
    },
    {
      "cell_type": "code",
      "execution_count": 3,
      "id": "a76fac5e",
      "metadata": {
        "colab": {
          "base_uri": "https://localhost:8080/",
          "height": 206
        },
        "id": "a76fac5e",
        "outputId": "6e581471-76a4-4035-a76c-2403d0e2e134"
      },
      "outputs": [
        {
          "output_type": "execute_result",
          "data": {
            "text/plain": [
              "      name gender\n",
              "0   alfiya      f\n",
              "1   ardwin      m\n",
              "2  henryka      f\n",
              "3   preeti      f\n",
              "4   jamaro      m"
            ],
            "text/html": [
              "\n",
              "  <div id=\"df-e2709edf-930e-4343-83bc-50fae454f4f3\" class=\"colab-df-container\">\n",
              "    <div>\n",
              "<style scoped>\n",
              "    .dataframe tbody tr th:only-of-type {\n",
              "        vertical-align: middle;\n",
              "    }\n",
              "\n",
              "    .dataframe tbody tr th {\n",
              "        vertical-align: top;\n",
              "    }\n",
              "\n",
              "    .dataframe thead th {\n",
              "        text-align: right;\n",
              "    }\n",
              "</style>\n",
              "<table border=\"1\" class=\"dataframe\">\n",
              "  <thead>\n",
              "    <tr style=\"text-align: right;\">\n",
              "      <th></th>\n",
              "      <th>name</th>\n",
              "      <th>gender</th>\n",
              "    </tr>\n",
              "  </thead>\n",
              "  <tbody>\n",
              "    <tr>\n",
              "      <th>0</th>\n",
              "      <td>alfiya</td>\n",
              "      <td>f</td>\n",
              "    </tr>\n",
              "    <tr>\n",
              "      <th>1</th>\n",
              "      <td>ardwin</td>\n",
              "      <td>m</td>\n",
              "    </tr>\n",
              "    <tr>\n",
              "      <th>2</th>\n",
              "      <td>henryka</td>\n",
              "      <td>f</td>\n",
              "    </tr>\n",
              "    <tr>\n",
              "      <th>3</th>\n",
              "      <td>preeti</td>\n",
              "      <td>f</td>\n",
              "    </tr>\n",
              "    <tr>\n",
              "      <th>4</th>\n",
              "      <td>jamaro</td>\n",
              "      <td>m</td>\n",
              "    </tr>\n",
              "  </tbody>\n",
              "</table>\n",
              "</div>\n",
              "    <div class=\"colab-df-buttons\">\n",
              "\n",
              "  <div class=\"colab-df-container\">\n",
              "    <button class=\"colab-df-convert\" onclick=\"convertToInteractive('df-e2709edf-930e-4343-83bc-50fae454f4f3')\"\n",
              "            title=\"Convert this dataframe to an interactive table.\"\n",
              "            style=\"display:none;\">\n",
              "\n",
              "  <svg xmlns=\"http://www.w3.org/2000/svg\" height=\"24px\" viewBox=\"0 -960 960 960\">\n",
              "    <path d=\"M120-120v-720h720v720H120Zm60-500h600v-160H180v160Zm220 220h160v-160H400v160Zm0 220h160v-160H400v160ZM180-400h160v-160H180v160Zm440 0h160v-160H620v160ZM180-180h160v-160H180v160Zm440 0h160v-160H620v160Z\"/>\n",
              "  </svg>\n",
              "    </button>\n",
              "\n",
              "  <style>\n",
              "    .colab-df-container {\n",
              "      display:flex;\n",
              "      gap: 12px;\n",
              "    }\n",
              "\n",
              "    .colab-df-convert {\n",
              "      background-color: #E8F0FE;\n",
              "      border: none;\n",
              "      border-radius: 50%;\n",
              "      cursor: pointer;\n",
              "      display: none;\n",
              "      fill: #1967D2;\n",
              "      height: 32px;\n",
              "      padding: 0 0 0 0;\n",
              "      width: 32px;\n",
              "    }\n",
              "\n",
              "    .colab-df-convert:hover {\n",
              "      background-color: #E2EBFA;\n",
              "      box-shadow: 0px 1px 2px rgba(60, 64, 67, 0.3), 0px 1px 3px 1px rgba(60, 64, 67, 0.15);\n",
              "      fill: #174EA6;\n",
              "    }\n",
              "\n",
              "    .colab-df-buttons div {\n",
              "      margin-bottom: 4px;\n",
              "    }\n",
              "\n",
              "    [theme=dark] .colab-df-convert {\n",
              "      background-color: #3B4455;\n",
              "      fill: #D2E3FC;\n",
              "    }\n",
              "\n",
              "    [theme=dark] .colab-df-convert:hover {\n",
              "      background-color: #434B5C;\n",
              "      box-shadow: 0px 1px 3px 1px rgba(0, 0, 0, 0.15);\n",
              "      filter: drop-shadow(0px 1px 2px rgba(0, 0, 0, 0.3));\n",
              "      fill: #FFFFFF;\n",
              "    }\n",
              "  </style>\n",
              "\n",
              "    <script>\n",
              "      const buttonEl =\n",
              "        document.querySelector('#df-e2709edf-930e-4343-83bc-50fae454f4f3 button.colab-df-convert');\n",
              "      buttonEl.style.display =\n",
              "        google.colab.kernel.accessAllowed ? 'block' : 'none';\n",
              "\n",
              "      async function convertToInteractive(key) {\n",
              "        const element = document.querySelector('#df-e2709edf-930e-4343-83bc-50fae454f4f3');\n",
              "        const dataTable =\n",
              "          await google.colab.kernel.invokeFunction('convertToInteractive',\n",
              "                                                    [key], {});\n",
              "        if (!dataTable) return;\n",
              "\n",
              "        const docLinkHtml = 'Like what you see? Visit the ' +\n",
              "          '<a target=\"_blank\" href=https://colab.research.google.com/notebooks/data_table.ipynb>data table notebook</a>'\n",
              "          + ' to learn more about interactive tables.';\n",
              "        element.innerHTML = '';\n",
              "        dataTable['output_type'] = 'display_data';\n",
              "        await google.colab.output.renderOutput(dataTable, element);\n",
              "        const docLink = document.createElement('div');\n",
              "        docLink.innerHTML = docLinkHtml;\n",
              "        element.appendChild(docLink);\n",
              "      }\n",
              "    </script>\n",
              "  </div>\n",
              "\n",
              "\n",
              "<div id=\"df-a5910c5f-f8fd-402a-b1cf-66f4c4130ce2\">\n",
              "  <button class=\"colab-df-quickchart\" onclick=\"quickchart('df-a5910c5f-f8fd-402a-b1cf-66f4c4130ce2')\"\n",
              "            title=\"Suggest charts\"\n",
              "            style=\"display:none;\">\n",
              "\n",
              "<svg xmlns=\"http://www.w3.org/2000/svg\" height=\"24px\"viewBox=\"0 0 24 24\"\n",
              "     width=\"24px\">\n",
              "    <g>\n",
              "        <path d=\"M19 3H5c-1.1 0-2 .9-2 2v14c0 1.1.9 2 2 2h14c1.1 0 2-.9 2-2V5c0-1.1-.9-2-2-2zM9 17H7v-7h2v7zm4 0h-2V7h2v10zm4 0h-2v-4h2v4z\"/>\n",
              "    </g>\n",
              "</svg>\n",
              "  </button>\n",
              "\n",
              "<style>\n",
              "  .colab-df-quickchart {\n",
              "      --bg-color: #E8F0FE;\n",
              "      --fill-color: #1967D2;\n",
              "      --hover-bg-color: #E2EBFA;\n",
              "      --hover-fill-color: #174EA6;\n",
              "      --disabled-fill-color: #AAA;\n",
              "      --disabled-bg-color: #DDD;\n",
              "  }\n",
              "\n",
              "  [theme=dark] .colab-df-quickchart {\n",
              "      --bg-color: #3B4455;\n",
              "      --fill-color: #D2E3FC;\n",
              "      --hover-bg-color: #434B5C;\n",
              "      --hover-fill-color: #FFFFFF;\n",
              "      --disabled-bg-color: #3B4455;\n",
              "      --disabled-fill-color: #666;\n",
              "  }\n",
              "\n",
              "  .colab-df-quickchart {\n",
              "    background-color: var(--bg-color);\n",
              "    border: none;\n",
              "    border-radius: 50%;\n",
              "    cursor: pointer;\n",
              "    display: none;\n",
              "    fill: var(--fill-color);\n",
              "    height: 32px;\n",
              "    padding: 0;\n",
              "    width: 32px;\n",
              "  }\n",
              "\n",
              "  .colab-df-quickchart:hover {\n",
              "    background-color: var(--hover-bg-color);\n",
              "    box-shadow: 0 1px 2px rgba(60, 64, 67, 0.3), 0 1px 3px 1px rgba(60, 64, 67, 0.15);\n",
              "    fill: var(--button-hover-fill-color);\n",
              "  }\n",
              "\n",
              "  .colab-df-quickchart-complete:disabled,\n",
              "  .colab-df-quickchart-complete:disabled:hover {\n",
              "    background-color: var(--disabled-bg-color);\n",
              "    fill: var(--disabled-fill-color);\n",
              "    box-shadow: none;\n",
              "  }\n",
              "\n",
              "  .colab-df-spinner {\n",
              "    border: 2px solid var(--fill-color);\n",
              "    border-color: transparent;\n",
              "    border-bottom-color: var(--fill-color);\n",
              "    animation:\n",
              "      spin 1s steps(1) infinite;\n",
              "  }\n",
              "\n",
              "  @keyframes spin {\n",
              "    0% {\n",
              "      border-color: transparent;\n",
              "      border-bottom-color: var(--fill-color);\n",
              "      border-left-color: var(--fill-color);\n",
              "    }\n",
              "    20% {\n",
              "      border-color: transparent;\n",
              "      border-left-color: var(--fill-color);\n",
              "      border-top-color: var(--fill-color);\n",
              "    }\n",
              "    30% {\n",
              "      border-color: transparent;\n",
              "      border-left-color: var(--fill-color);\n",
              "      border-top-color: var(--fill-color);\n",
              "      border-right-color: var(--fill-color);\n",
              "    }\n",
              "    40% {\n",
              "      border-color: transparent;\n",
              "      border-right-color: var(--fill-color);\n",
              "      border-top-color: var(--fill-color);\n",
              "    }\n",
              "    60% {\n",
              "      border-color: transparent;\n",
              "      border-right-color: var(--fill-color);\n",
              "    }\n",
              "    80% {\n",
              "      border-color: transparent;\n",
              "      border-right-color: var(--fill-color);\n",
              "      border-bottom-color: var(--fill-color);\n",
              "    }\n",
              "    90% {\n",
              "      border-color: transparent;\n",
              "      border-bottom-color: var(--fill-color);\n",
              "    }\n",
              "  }\n",
              "</style>\n",
              "\n",
              "  <script>\n",
              "    async function quickchart(key) {\n",
              "      const quickchartButtonEl =\n",
              "        document.querySelector('#' + key + ' button');\n",
              "      quickchartButtonEl.disabled = true;  // To prevent multiple clicks.\n",
              "      quickchartButtonEl.classList.add('colab-df-spinner');\n",
              "      try {\n",
              "        const charts = await google.colab.kernel.invokeFunction(\n",
              "            'suggestCharts', [key], {});\n",
              "      } catch (error) {\n",
              "        console.error('Error during call to suggestCharts:', error);\n",
              "      }\n",
              "      quickchartButtonEl.classList.remove('colab-df-spinner');\n",
              "      quickchartButtonEl.classList.add('colab-df-quickchart-complete');\n",
              "    }\n",
              "    (() => {\n",
              "      let quickchartButtonEl =\n",
              "        document.querySelector('#df-a5910c5f-f8fd-402a-b1cf-66f4c4130ce2 button');\n",
              "      quickchartButtonEl.style.display =\n",
              "        google.colab.kernel.accessAllowed ? 'block' : 'none';\n",
              "    })();\n",
              "  </script>\n",
              "</div>\n",
              "\n",
              "    </div>\n",
              "  </div>\n"
            ],
            "application/vnd.google.colaboratory.intrinsic+json": {
              "type": "dataframe",
              "variable_name": "df"
            }
          },
          "metadata": {},
          "execution_count": 3
        }
      ],
      "source": [
        "df.head()"
      ]
    },
    {
      "cell_type": "code",
      "execution_count": 4,
      "id": "e482429a",
      "metadata": {
        "colab": {
          "base_uri": "https://localhost:8080/"
        },
        "id": "e482429a",
        "outputId": "12c6539a-6bc1-4e6c-bc2c-d9e45b9f060a"
      },
      "outputs": [
        {
          "output_type": "execute_result",
          "data": {
            "text/plain": [
              "250462"
            ]
          },
          "metadata": {},
          "execution_count": 4
        }
      ],
      "source": [
        "df.size"
      ]
    },
    {
      "cell_type": "code",
      "execution_count": 5,
      "id": "35159f60",
      "metadata": {
        "colab": {
          "base_uri": "https://localhost:8080/"
        },
        "id": "35159f60",
        "outputId": "f34f579b-d5ee-441f-e92e-10548bd8871e"
      },
      "outputs": [
        {
          "output_type": "execute_result",
          "data": {
            "text/plain": [
              "Index(['name', 'gender'], dtype='object')"
            ]
          },
          "metadata": {},
          "execution_count": 5
        }
      ],
      "source": [
        "df.columns"
      ]
    },
    {
      "cell_type": "code",
      "execution_count": 6,
      "id": "b4a46e73",
      "metadata": {
        "colab": {
          "base_uri": "https://localhost:8080/",
          "height": 146
        },
        "id": "b4a46e73",
        "outputId": "32cebdcd-230b-4475-f135-440cf82676bf"
      },
      "outputs": [
        {
          "output_type": "execute_result",
          "data": {
            "text/plain": [
              "name      object\n",
              "gender    object\n",
              "dtype: object"
            ],
            "text/html": [
              "<div>\n",
              "<style scoped>\n",
              "    .dataframe tbody tr th:only-of-type {\n",
              "        vertical-align: middle;\n",
              "    }\n",
              "\n",
              "    .dataframe tbody tr th {\n",
              "        vertical-align: top;\n",
              "    }\n",
              "\n",
              "    .dataframe thead th {\n",
              "        text-align: right;\n",
              "    }\n",
              "</style>\n",
              "<table border=\"1\" class=\"dataframe\">\n",
              "  <thead>\n",
              "    <tr style=\"text-align: right;\">\n",
              "      <th></th>\n",
              "      <th>0</th>\n",
              "    </tr>\n",
              "  </thead>\n",
              "  <tbody>\n",
              "    <tr>\n",
              "      <th>name</th>\n",
              "      <td>object</td>\n",
              "    </tr>\n",
              "    <tr>\n",
              "      <th>gender</th>\n",
              "      <td>object</td>\n",
              "    </tr>\n",
              "  </tbody>\n",
              "</table>\n",
              "</div><br><label><b>dtype:</b> object</label>"
            ]
          },
          "metadata": {},
          "execution_count": 6
        }
      ],
      "source": [
        "df.dtypes"
      ]
    },
    {
      "cell_type": "code",
      "execution_count": 7,
      "id": "c35d74f4",
      "metadata": {
        "colab": {
          "base_uri": "https://localhost:8080/",
          "height": 146
        },
        "id": "c35d74f4",
        "outputId": "7ae52eaa-ea2a-4e31-b0e6-fe4c791b1f3c"
      },
      "outputs": [
        {
          "output_type": "execute_result",
          "data": {
            "text/plain": [
              "name      0\n",
              "gender    0\n",
              "dtype: int64"
            ],
            "text/html": [
              "<div>\n",
              "<style scoped>\n",
              "    .dataframe tbody tr th:only-of-type {\n",
              "        vertical-align: middle;\n",
              "    }\n",
              "\n",
              "    .dataframe tbody tr th {\n",
              "        vertical-align: top;\n",
              "    }\n",
              "\n",
              "    .dataframe thead th {\n",
              "        text-align: right;\n",
              "    }\n",
              "</style>\n",
              "<table border=\"1\" class=\"dataframe\">\n",
              "  <thead>\n",
              "    <tr style=\"text-align: right;\">\n",
              "      <th></th>\n",
              "      <th>0</th>\n",
              "    </tr>\n",
              "  </thead>\n",
              "  <tbody>\n",
              "    <tr>\n",
              "      <th>name</th>\n",
              "      <td>0</td>\n",
              "    </tr>\n",
              "    <tr>\n",
              "      <th>gender</th>\n",
              "      <td>0</td>\n",
              "    </tr>\n",
              "  </tbody>\n",
              "</table>\n",
              "</div><br><label><b>dtype:</b> int64</label>"
            ]
          },
          "metadata": {},
          "execution_count": 7
        }
      ],
      "source": [
        "# Checking for missing value\n",
        "df.isnull().isnull().sum()"
      ]
    },
    {
      "cell_type": "code",
      "execution_count": 8,
      "id": "6835063a",
      "metadata": {
        "colab": {
          "base_uri": "https://localhost:8080/"
        },
        "id": "6835063a",
        "outputId": "17c6ad0d-7767-4ab3-be11-d7e14de80e64"
      },
      "outputs": [
        {
          "output_type": "execute_result",
          "data": {
            "text/plain": [
              "151942"
            ]
          },
          "metadata": {},
          "execution_count": 8
        }
      ],
      "source": [
        "# Number of female names\n",
        "df[df.gender == 'f'].size"
      ]
    },
    {
      "cell_type": "code",
      "execution_count": 9,
      "id": "5e92216d",
      "metadata": {
        "colab": {
          "base_uri": "https://localhost:8080/"
        },
        "id": "5e92216d",
        "outputId": "888a9bed-a7b8-40f2-d195-f4e00eec0014"
      },
      "outputs": [
        {
          "output_type": "execute_result",
          "data": {
            "text/plain": [
              "98520"
            ]
          },
          "metadata": {},
          "execution_count": 9
        }
      ],
      "source": [
        "# Number of male names\n",
        "df[df.gender == 'm'].size"
      ]
    },
    {
      "cell_type": "code",
      "execution_count": 10,
      "id": "5a347669",
      "metadata": {
        "id": "5a347669"
      },
      "outputs": [],
      "source": [
        "df_names = df"
      ]
    },
    {
      "cell_type": "code",
      "execution_count": 11,
      "id": "44d47d77",
      "metadata": {
        "id": "44d47d77"
      },
      "outputs": [],
      "source": [
        "# Replacing all f to 0 and m to 1\n",
        "df_names.gender.replace({'f': 0, 'm': 1}, inplace=True)"
      ]
    },
    {
      "cell_type": "code",
      "execution_count": 12,
      "id": "96c4b720",
      "metadata": {
        "colab": {
          "base_uri": "https://localhost:8080/",
          "height": 206
        },
        "id": "96c4b720",
        "outputId": "4ab14637-a13c-424e-cd43-41958e946c55"
      },
      "outputs": [
        {
          "output_type": "execute_result",
          "data": {
            "text/plain": [
              "      name  gender\n",
              "0   alfiya       0\n",
              "1   ardwin       1\n",
              "2  henryka       0\n",
              "3   preeti       0\n",
              "4   jamaro       1"
            ],
            "text/html": [
              "\n",
              "  <div id=\"df-ad166016-d936-4abf-bd52-437c9d5a045f\" class=\"colab-df-container\">\n",
              "    <div>\n",
              "<style scoped>\n",
              "    .dataframe tbody tr th:only-of-type {\n",
              "        vertical-align: middle;\n",
              "    }\n",
              "\n",
              "    .dataframe tbody tr th {\n",
              "        vertical-align: top;\n",
              "    }\n",
              "\n",
              "    .dataframe thead th {\n",
              "        text-align: right;\n",
              "    }\n",
              "</style>\n",
              "<table border=\"1\" class=\"dataframe\">\n",
              "  <thead>\n",
              "    <tr style=\"text-align: right;\">\n",
              "      <th></th>\n",
              "      <th>name</th>\n",
              "      <th>gender</th>\n",
              "    </tr>\n",
              "  </thead>\n",
              "  <tbody>\n",
              "    <tr>\n",
              "      <th>0</th>\n",
              "      <td>alfiya</td>\n",
              "      <td>0</td>\n",
              "    </tr>\n",
              "    <tr>\n",
              "      <th>1</th>\n",
              "      <td>ardwin</td>\n",
              "      <td>1</td>\n",
              "    </tr>\n",
              "    <tr>\n",
              "      <th>2</th>\n",
              "      <td>henryka</td>\n",
              "      <td>0</td>\n",
              "    </tr>\n",
              "    <tr>\n",
              "      <th>3</th>\n",
              "      <td>preeti</td>\n",
              "      <td>0</td>\n",
              "    </tr>\n",
              "    <tr>\n",
              "      <th>4</th>\n",
              "      <td>jamaro</td>\n",
              "      <td>1</td>\n",
              "    </tr>\n",
              "  </tbody>\n",
              "</table>\n",
              "</div>\n",
              "    <div class=\"colab-df-buttons\">\n",
              "\n",
              "  <div class=\"colab-df-container\">\n",
              "    <button class=\"colab-df-convert\" onclick=\"convertToInteractive('df-ad166016-d936-4abf-bd52-437c9d5a045f')\"\n",
              "            title=\"Convert this dataframe to an interactive table.\"\n",
              "            style=\"display:none;\">\n",
              "\n",
              "  <svg xmlns=\"http://www.w3.org/2000/svg\" height=\"24px\" viewBox=\"0 -960 960 960\">\n",
              "    <path d=\"M120-120v-720h720v720H120Zm60-500h600v-160H180v160Zm220 220h160v-160H400v160Zm0 220h160v-160H400v160ZM180-400h160v-160H180v160Zm440 0h160v-160H620v160ZM180-180h160v-160H180v160Zm440 0h160v-160H620v160Z\"/>\n",
              "  </svg>\n",
              "    </button>\n",
              "\n",
              "  <style>\n",
              "    .colab-df-container {\n",
              "      display:flex;\n",
              "      gap: 12px;\n",
              "    }\n",
              "\n",
              "    .colab-df-convert {\n",
              "      background-color: #E8F0FE;\n",
              "      border: none;\n",
              "      border-radius: 50%;\n",
              "      cursor: pointer;\n",
              "      display: none;\n",
              "      fill: #1967D2;\n",
              "      height: 32px;\n",
              "      padding: 0 0 0 0;\n",
              "      width: 32px;\n",
              "    }\n",
              "\n",
              "    .colab-df-convert:hover {\n",
              "      background-color: #E2EBFA;\n",
              "      box-shadow: 0px 1px 2px rgba(60, 64, 67, 0.3), 0px 1px 3px 1px rgba(60, 64, 67, 0.15);\n",
              "      fill: #174EA6;\n",
              "    }\n",
              "\n",
              "    .colab-df-buttons div {\n",
              "      margin-bottom: 4px;\n",
              "    }\n",
              "\n",
              "    [theme=dark] .colab-df-convert {\n",
              "      background-color: #3B4455;\n",
              "      fill: #D2E3FC;\n",
              "    }\n",
              "\n",
              "    [theme=dark] .colab-df-convert:hover {\n",
              "      background-color: #434B5C;\n",
              "      box-shadow: 0px 1px 3px 1px rgba(0, 0, 0, 0.15);\n",
              "      filter: drop-shadow(0px 1px 2px rgba(0, 0, 0, 0.3));\n",
              "      fill: #FFFFFF;\n",
              "    }\n",
              "  </style>\n",
              "\n",
              "    <script>\n",
              "      const buttonEl =\n",
              "        document.querySelector('#df-ad166016-d936-4abf-bd52-437c9d5a045f button.colab-df-convert');\n",
              "      buttonEl.style.display =\n",
              "        google.colab.kernel.accessAllowed ? 'block' : 'none';\n",
              "\n",
              "      async function convertToInteractive(key) {\n",
              "        const element = document.querySelector('#df-ad166016-d936-4abf-bd52-437c9d5a045f');\n",
              "        const dataTable =\n",
              "          await google.colab.kernel.invokeFunction('convertToInteractive',\n",
              "                                                    [key], {});\n",
              "        if (!dataTable) return;\n",
              "\n",
              "        const docLinkHtml = 'Like what you see? Visit the ' +\n",
              "          '<a target=\"_blank\" href=https://colab.research.google.com/notebooks/data_table.ipynb>data table notebook</a>'\n",
              "          + ' to learn more about interactive tables.';\n",
              "        element.innerHTML = '';\n",
              "        dataTable['output_type'] = 'display_data';\n",
              "        await google.colab.output.renderOutput(dataTable, element);\n",
              "        const docLink = document.createElement('div');\n",
              "        docLink.innerHTML = docLinkHtml;\n",
              "        element.appendChild(docLink);\n",
              "      }\n",
              "    </script>\n",
              "  </div>\n",
              "\n",
              "\n",
              "<div id=\"df-1b62a6dc-c9d9-4c01-9834-d72d47d9a46e\">\n",
              "  <button class=\"colab-df-quickchart\" onclick=\"quickchart('df-1b62a6dc-c9d9-4c01-9834-d72d47d9a46e')\"\n",
              "            title=\"Suggest charts\"\n",
              "            style=\"display:none;\">\n",
              "\n",
              "<svg xmlns=\"http://www.w3.org/2000/svg\" height=\"24px\"viewBox=\"0 0 24 24\"\n",
              "     width=\"24px\">\n",
              "    <g>\n",
              "        <path d=\"M19 3H5c-1.1 0-2 .9-2 2v14c0 1.1.9 2 2 2h14c1.1 0 2-.9 2-2V5c0-1.1-.9-2-2-2zM9 17H7v-7h2v7zm4 0h-2V7h2v10zm4 0h-2v-4h2v4z\"/>\n",
              "    </g>\n",
              "</svg>\n",
              "  </button>\n",
              "\n",
              "<style>\n",
              "  .colab-df-quickchart {\n",
              "      --bg-color: #E8F0FE;\n",
              "      --fill-color: #1967D2;\n",
              "      --hover-bg-color: #E2EBFA;\n",
              "      --hover-fill-color: #174EA6;\n",
              "      --disabled-fill-color: #AAA;\n",
              "      --disabled-bg-color: #DDD;\n",
              "  }\n",
              "\n",
              "  [theme=dark] .colab-df-quickchart {\n",
              "      --bg-color: #3B4455;\n",
              "      --fill-color: #D2E3FC;\n",
              "      --hover-bg-color: #434B5C;\n",
              "      --hover-fill-color: #FFFFFF;\n",
              "      --disabled-bg-color: #3B4455;\n",
              "      --disabled-fill-color: #666;\n",
              "  }\n",
              "\n",
              "  .colab-df-quickchart {\n",
              "    background-color: var(--bg-color);\n",
              "    border: none;\n",
              "    border-radius: 50%;\n",
              "    cursor: pointer;\n",
              "    display: none;\n",
              "    fill: var(--fill-color);\n",
              "    height: 32px;\n",
              "    padding: 0;\n",
              "    width: 32px;\n",
              "  }\n",
              "\n",
              "  .colab-df-quickchart:hover {\n",
              "    background-color: var(--hover-bg-color);\n",
              "    box-shadow: 0 1px 2px rgba(60, 64, 67, 0.3), 0 1px 3px 1px rgba(60, 64, 67, 0.15);\n",
              "    fill: var(--button-hover-fill-color);\n",
              "  }\n",
              "\n",
              "  .colab-df-quickchart-complete:disabled,\n",
              "  .colab-df-quickchart-complete:disabled:hover {\n",
              "    background-color: var(--disabled-bg-color);\n",
              "    fill: var(--disabled-fill-color);\n",
              "    box-shadow: none;\n",
              "  }\n",
              "\n",
              "  .colab-df-spinner {\n",
              "    border: 2px solid var(--fill-color);\n",
              "    border-color: transparent;\n",
              "    border-bottom-color: var(--fill-color);\n",
              "    animation:\n",
              "      spin 1s steps(1) infinite;\n",
              "  }\n",
              "\n",
              "  @keyframes spin {\n",
              "    0% {\n",
              "      border-color: transparent;\n",
              "      border-bottom-color: var(--fill-color);\n",
              "      border-left-color: var(--fill-color);\n",
              "    }\n",
              "    20% {\n",
              "      border-color: transparent;\n",
              "      border-left-color: var(--fill-color);\n",
              "      border-top-color: var(--fill-color);\n",
              "    }\n",
              "    30% {\n",
              "      border-color: transparent;\n",
              "      border-left-color: var(--fill-color);\n",
              "      border-top-color: var(--fill-color);\n",
              "      border-right-color: var(--fill-color);\n",
              "    }\n",
              "    40% {\n",
              "      border-color: transparent;\n",
              "      border-right-color: var(--fill-color);\n",
              "      border-top-color: var(--fill-color);\n",
              "    }\n",
              "    60% {\n",
              "      border-color: transparent;\n",
              "      border-right-color: var(--fill-color);\n",
              "    }\n",
              "    80% {\n",
              "      border-color: transparent;\n",
              "      border-right-color: var(--fill-color);\n",
              "      border-bottom-color: var(--fill-color);\n",
              "    }\n",
              "    90% {\n",
              "      border-color: transparent;\n",
              "      border-bottom-color: var(--fill-color);\n",
              "    }\n",
              "  }\n",
              "</style>\n",
              "\n",
              "  <script>\n",
              "    async function quickchart(key) {\n",
              "      const quickchartButtonEl =\n",
              "        document.querySelector('#' + key + ' button');\n",
              "      quickchartButtonEl.disabled = true;  // To prevent multiple clicks.\n",
              "      quickchartButtonEl.classList.add('colab-df-spinner');\n",
              "      try {\n",
              "        const charts = await google.colab.kernel.invokeFunction(\n",
              "            'suggestCharts', [key], {});\n",
              "      } catch (error) {\n",
              "        console.error('Error during call to suggestCharts:', error);\n",
              "      }\n",
              "      quickchartButtonEl.classList.remove('colab-df-spinner');\n",
              "      quickchartButtonEl.classList.add('colab-df-quickchart-complete');\n",
              "    }\n",
              "    (() => {\n",
              "      let quickchartButtonEl =\n",
              "        document.querySelector('#df-1b62a6dc-c9d9-4c01-9834-d72d47d9a46e button');\n",
              "      quickchartButtonEl.style.display =\n",
              "        google.colab.kernel.accessAllowed ? 'block' : 'none';\n",
              "    })();\n",
              "  </script>\n",
              "</div>\n",
              "\n",
              "    </div>\n",
              "  </div>\n"
            ],
            "application/vnd.google.colaboratory.intrinsic+json": {
              "type": "dataframe",
              "variable_name": "df_names"
            }
          },
          "metadata": {},
          "execution_count": 12
        }
      ],
      "source": [
        "df_names.head()"
      ]
    },
    {
      "cell_type": "code",
      "execution_count": 13,
      "id": "0a8b1c83",
      "metadata": {
        "colab": {
          "base_uri": "https://localhost:8080/"
        },
        "id": "0a8b1c83",
        "outputId": "b3f9a37f-d562-47e0-a9f8-f53f9b6d7036"
      },
      "outputs": [
        {
          "output_type": "execute_result",
          "data": {
            "text/plain": [
              "array([0, 1])"
            ]
          },
          "metadata": {},
          "execution_count": 13
        }
      ],
      "source": [
        "df_names.gender.unique()"
      ]
    },
    {
      "cell_type": "code",
      "execution_count": 14,
      "id": "3bc0d689",
      "metadata": {
        "colab": {
          "base_uri": "https://localhost:8080/"
        },
        "id": "3bc0d689",
        "outputId": "e9489cc4-c8d7-4590-ed9e-4ae1604f0ad2"
      },
      "outputs": [
        {
          "output_type": "execute_result",
          "data": {
            "text/plain": [
              "array([0, 1])"
            ]
          },
          "metadata": {},
          "execution_count": 14
        }
      ],
      "source": [
        "df_names['gender'].unique()"
      ]
    },
    {
      "cell_type": "code",
      "execution_count": 15,
      "id": "5072dc68",
      "metadata": {
        "colab": {
          "base_uri": "https://localhost:8080/",
          "height": 146
        },
        "id": "5072dc68",
        "outputId": "d1db9aaa-53dd-4df4-e2bf-5aed354c0904"
      },
      "outputs": [
        {
          "output_type": "execute_result",
          "data": {
            "text/plain": [
              "name      object\n",
              "gender     int64\n",
              "dtype: object"
            ],
            "text/html": [
              "<div>\n",
              "<style scoped>\n",
              "    .dataframe tbody tr th:only-of-type {\n",
              "        vertical-align: middle;\n",
              "    }\n",
              "\n",
              "    .dataframe tbody tr th {\n",
              "        vertical-align: top;\n",
              "    }\n",
              "\n",
              "    .dataframe thead th {\n",
              "        text-align: right;\n",
              "    }\n",
              "</style>\n",
              "<table border=\"1\" class=\"dataframe\">\n",
              "  <thead>\n",
              "    <tr style=\"text-align: right;\">\n",
              "      <th></th>\n",
              "      <th>0</th>\n",
              "    </tr>\n",
              "  </thead>\n",
              "  <tbody>\n",
              "    <tr>\n",
              "      <th>name</th>\n",
              "      <td>object</td>\n",
              "    </tr>\n",
              "    <tr>\n",
              "      <th>gender</th>\n",
              "      <td>int64</td>\n",
              "    </tr>\n",
              "  </tbody>\n",
              "</table>\n",
              "</div><br><label><b>dtype:</b> object</label>"
            ]
          },
          "metadata": {},
          "execution_count": 15
        }
      ],
      "source": [
        "df_names.dtypes"
      ]
    },
    {
      "cell_type": "code",
      "execution_count": 16,
      "id": "c2cfbde2",
      "metadata": {
        "id": "c2cfbde2"
      },
      "outputs": [],
      "source": [
        "Xfeatures = df_names['name']"
      ]
    },
    {
      "cell_type": "code",
      "execution_count": 17,
      "id": "40da56f0",
      "metadata": {
        "id": "40da56f0"
      },
      "outputs": [],
      "source": [
        "cv = CountVectorizer()\n",
        "X = cv.fit_transform(Xfeatures.values.astype('U'))"
      ]
    },
    {
      "cell_type": "code",
      "execution_count": 18,
      "id": "50d093fd",
      "metadata": {
        "colab": {
          "base_uri": "https://localhost:8080/"
        },
        "id": "50d093fd",
        "outputId": "50345266-b179-4bd5-8ce1-24a87121b5d3"
      },
      "outputs": [
        {
          "output_type": "execute_result",
          "data": {
            "text/plain": [
              "(125231, 101785)"
            ]
          },
          "metadata": {},
          "execution_count": 18
        }
      ],
      "source": [
        "X.shape"
      ]
    },
    {
      "cell_type": "code",
      "execution_count": 19,
      "id": "f29da146",
      "metadata": {
        "id": "f29da146"
      },
      "outputs": [],
      "source": [
        "gender_vectorizer = open(\"gender_vectorizer.pkl\", \"wb\")\n",
        "joblib.dump(cv, gender_vectorizer)"
      ]
    },
    {
      "cell_type": "code",
      "execution_count": 20,
      "id": "7427a920",
      "metadata": {
        "id": "7427a920"
      },
      "outputs": [],
      "source": [
        "gender_vectorizer.close()"
      ]
    },
    {
      "cell_type": "code",
      "execution_count": 21,
      "id": "015a72b4",
      "metadata": {
        "colab": {
          "base_uri": "https://localhost:8080/"
        },
        "id": "015a72b4",
        "outputId": "9ccce94b-37ba-4d53-c2e3-0339f9b869e8"
      },
      "outputs": [
        {
          "output_type": "execute_result",
          "data": {
            "text/plain": [
              "array(['aaban', 'aabha', 'aabid', ..., 'सर', 'सलम', 'हन'], dtype=object)"
            ]
          },
          "metadata": {},
          "execution_count": 21
        }
      ],
      "source": [
        "cv.get_feature_names_out()"
      ]
    },
    {
      "cell_type": "code",
      "execution_count": 22,
      "id": "afce8ba0",
      "metadata": {
        "id": "afce8ba0"
      },
      "outputs": [],
      "source": [
        "y=df_names.gender"
      ]
    },
    {
      "cell_type": "code",
      "execution_count": 23,
      "id": "838737bd",
      "metadata": {
        "id": "838737bd"
      },
      "outputs": [],
      "source": [
        "X_train, X_test, y_train, y_test = train_test_split(X, y, test_size=0.2, random_state=42)"
      ]
    },
    {
      "cell_type": "code",
      "execution_count": 24,
      "id": "ad175471",
      "metadata": {
        "colab": {
          "base_uri": "https://localhost:8080/"
        },
        "id": "ad175471",
        "outputId": "b3971398-23ce-440d-a843-c0996ab7c116"
      },
      "outputs": [
        {
          "output_type": "execute_result",
          "data": {
            "text/plain": [
              "0.7104643270651175"
            ]
          },
          "metadata": {},
          "execution_count": 24
        }
      ],
      "source": [
        "from sklearn.naive_bayes import MultinomialNB\n",
        "clf = MultinomialNB()\n",
        "clf.fit(X_train, y_train)\n",
        "clf.score(X_test, y_test)"
      ]
    },
    {
      "cell_type": "code",
      "execution_count": 25,
      "id": "926e5c4b",
      "metadata": {
        "colab": {
          "base_uri": "https://localhost:8080/"
        },
        "id": "926e5c4b",
        "outputId": "d13662a3-046c-4ba0-e408-4131b2945c7b"
      },
      "outputs": [
        {
          "output_type": "stream",
          "name": "stdout",
          "text": [
            "Accuracy of Model-> 71.04643270651175 %\n"
          ]
        }
      ],
      "source": [
        "print(\"Accuracy of Model-> {} %\".format(clf.score(X_test, y_test)*100))"
      ]
    },
    {
      "cell_type": "code",
      "execution_count": 26,
      "id": "c0f16298",
      "metadata": {
        "colab": {
          "base_uri": "https://localhost:8080/"
        },
        "id": "c0f16298",
        "outputId": "cb5f612c-c702-4c13-9189-2995568cbbf6"
      },
      "outputs": [
        {
          "output_type": "stream",
          "name": "stdout",
          "text": [
            "Accuracy of Model-> 99.13758684021401 %\n"
          ]
        }
      ],
      "source": [
        "print(\"Accuracy of Model-> {} %\".format(clf.score(X_train, y_train)*100))"
      ]
    },
    {
      "cell_type": "code",
      "execution_count": 27,
      "id": "4d7d92cf",
      "metadata": {
        "id": "4d7d92cf"
      },
      "outputs": [],
      "source": [
        "# Prediction"
      ]
    },
    {
      "cell_type": "code",
      "execution_count": 28,
      "id": "0dec6a87",
      "metadata": {
        "colab": {
          "base_uri": "https://localhost:8080/"
        },
        "id": "0dec6a87",
        "outputId": "4ab6bffa-47b9-4f17-b74b-7179830ece83"
      },
      "outputs": [
        {
          "output_type": "execute_result",
          "data": {
            "text/plain": [
              "array([0])"
            ]
          },
          "metadata": {},
          "execution_count": 28
        }
      ],
      "source": [
        "sample_names = [\"Suchitra\"]\n",
        "vect = cv.transform(sample_names).toarray()\n",
        "clf.predict(vect)"
      ]
    },
    {
      "cell_type": "code",
      "execution_count": 29,
      "id": "3814be92",
      "metadata": {
        "colab": {
          "base_uri": "https://localhost:8080/"
        },
        "id": "3814be92",
        "outputId": "f54ffba0-8ea5-4e52-a9e1-4dd8ef056082"
      },
      "outputs": [
        {
          "output_type": "execute_result",
          "data": {
            "text/plain": [
              "array([0])"
            ]
          },
          "metadata": {},
          "execution_count": 29
        }
      ],
      "source": [
        "sample_names2 = [\"Natasha\"]\n",
        "vect = cv.transform(sample_names2).toarray()\n",
        "clf.predict(vect)"
      ]
    },
    {
      "cell_type": "code",
      "execution_count": 30,
      "id": "35e36aa8",
      "metadata": {
        "colab": {
          "base_uri": "https://localhost:8080/"
        },
        "id": "35e36aa8",
        "outputId": "f74c4a6c-2cd7-4153-8e1a-6a56e1cc04c9"
      },
      "outputs": [
        {
          "output_type": "execute_result",
          "data": {
            "text/plain": [
              "array([1, 0, 0, 0, 1, 1, 1])"
            ]
          },
          "metadata": {},
          "execution_count": 30
        }
      ],
      "source": [
        "sample_names3 = ['Chandu','Suchitra','Nasha','Puja','Kabir','Joseph','Virat']\n",
        "vect = cv.transform(sample_names3).toarray()\n",
        "clf.predict(vect)"
      ]
    },
    {
      "cell_type": "code",
      "execution_count": 31,
      "id": "0175c81d",
      "metadata": {
        "id": "0175c81d"
      },
      "outputs": [],
      "source": [
        "def gender_predictor(name):\n",
        "    test_name = [name]\n",
        "    vector = cv.transform(test_name).toarray()\n",
        "    if clf.predict(vector) == 0:\n",
        "        return \"Female\"\n",
        "    else:\n",
        "        return \"Male\""
      ]
    },
    {
      "cell_type": "code",
      "execution_count": 32,
      "id": "f3f740d6",
      "metadata": {
        "colab": {
          "base_uri": "https://localhost:8080/"
        },
        "id": "f3f740d6",
        "outputId": "958bc124-69c9-4982-e8f3-8e2c90887570"
      },
      "outputs": [
        {
          "output_type": "stream",
          "name": "stdout",
          "text": [
            "Chandu -> Male\n",
            "Suchitra -> Female\n",
            "Nasha -> Female\n",
            "Puja -> Female\n",
            "Kabir -> Male\n",
            "Joseph -> Male\n",
            "Virat -> Male\n"
          ]
        }
      ],
      "source": [
        "for i in sample_names3:\n",
        "    print(i, \"->\", gender_predictor(i))"
      ]
    },
    {
      "cell_type": "code",
      "execution_count": 33,
      "id": "a3f91b76",
      "metadata": {
        "id": "a3f91b76"
      },
      "outputs": [],
      "source": [
        "# Custom Feature Analysis\n",
        "# By analogy most female names ends in A or I or has the sound of A\n",
        "\n",
        "def features(name):\n",
        "    name = str(name)\n",
        "    name = name.lower()\n",
        "    return {\n",
        "        'first-letter': name[0],\n",
        "        'first2-letter': name[0:2],\n",
        "        'first3-letter': name[0:3],\n",
        "        'last-letter':name[-1],\n",
        "        'last2-letter':name[-2:],\n",
        "        'last3-letter':name[-3:],\n",
        "    }\n"
      ]
    },
    {
      "cell_type": "code",
      "execution_count": 34,
      "id": "00ce35fc",
      "metadata": {
        "colab": {
          "base_uri": "https://localhost:8080/"
        },
        "id": "00ce35fc",
        "outputId": "3991b953-81ad-43e4-a1f2-9e289c8d480e"
      },
      "outputs": [
        {
          "output_type": "execute_result",
          "data": {
            "text/plain": [
              "array([{'first-letter': 'c', 'first2-letter': 'ch', 'first3-letter': 'cha', 'last-letter': 'u', 'last2-letter': 'du', 'last3-letter': 'ndu'},\n",
              "       {'first-letter': 's', 'first2-letter': 'su', 'first3-letter': 'suc', 'last-letter': 'a', 'last2-letter': 'ra', 'last3-letter': 'tra'},\n",
              "       {'first-letter': 'n', 'first2-letter': 'na', 'first3-letter': 'nas', 'last-letter': 'a', 'last2-letter': 'ha', 'last3-letter': 'sha'},\n",
              "       {'first-letter': 'p', 'first2-letter': 'pu', 'first3-letter': 'puj', 'last-letter': 'a', 'last2-letter': 'ja', 'last3-letter': 'uja'},\n",
              "       {'first-letter': 'k', 'first2-letter': 'ka', 'first3-letter': 'kab', 'last-letter': 'r', 'last2-letter': 'ir', 'last3-letter': 'bir'},\n",
              "       {'first-letter': 'j', 'first2-letter': 'jo', 'first3-letter': 'jos', 'last-letter': 'h', 'last2-letter': 'ph', 'last3-letter': 'eph'},\n",
              "       {'first-letter': 'v', 'first2-letter': 'vi', 'first3-letter': 'vir', 'last-letter': 't', 'last2-letter': 'at', 'last3-letter': 'rat'}],\n",
              "      dtype=object)"
            ]
          },
          "metadata": {},
          "execution_count": 34
        }
      ],
      "source": [
        "features = np.vectorize(features)\n",
        "features(['Chandu','Suchitra','Nasha','Puja','Kabir','Joseph','Virat'])"
      ]
    },
    {
      "cell_type": "code",
      "execution_count": 35,
      "id": "19ad08db",
      "metadata": {
        "id": "19ad08db"
      },
      "outputs": [],
      "source": [
        "df_X = features(df_names['name'])"
      ]
    },
    {
      "cell_type": "code",
      "execution_count": 36,
      "id": "9e2d7e1c",
      "metadata": {
        "id": "9e2d7e1c"
      },
      "outputs": [],
      "source": [
        "df_y = df_names['gender']"
      ]
    },
    {
      "cell_type": "code",
      "execution_count": 36,
      "id": "a966af5e",
      "metadata": {
        "id": "a966af5e"
      },
      "outputs": [],
      "source": []
    },
    {
      "cell_type": "code",
      "execution_count": 37,
      "id": "f3c12108",
      "metadata": {
        "id": "f3c12108"
      },
      "outputs": [],
      "source": [
        "corpus = features([\"Chandu\", \"Julia\"])\n",
        "dv = DictVectorizer()\n",
        "dv.fit(corpus)\n",
        "tranformed  = dv.transform(corpus)"
      ]
    },
    {
      "cell_type": "code",
      "execution_count": 38,
      "id": "002ab025",
      "metadata": {
        "colab": {
          "base_uri": "https://localhost:8080/"
        },
        "id": "002ab025",
        "outputId": "07c76252-1d50-4165-9898-f139e9642994"
      },
      "outputs": [
        {
          "output_type": "stream",
          "name": "stdout",
          "text": [
            "  (0, 0)\t1.0\n",
            "  (0, 2)\t1.0\n",
            "  (0, 4)\t1.0\n",
            "  (0, 7)\t1.0\n",
            "  (0, 8)\t1.0\n",
            "  (0, 11)\t1.0\n",
            "  (1, 1)\t1.0\n",
            "  (1, 3)\t1.0\n",
            "  (1, 5)\t1.0\n",
            "  (1, 6)\t1.0\n",
            "  (1, 9)\t1.0\n",
            "  (1, 10)\t1.0\n"
          ]
        }
      ],
      "source": [
        "print(tranformed)"
      ]
    },
    {
      "cell_type": "code",
      "execution_count": 39,
      "id": "6179ec61",
      "metadata": {
        "colab": {
          "base_uri": "https://localhost:8080/"
        },
        "id": "6179ec61",
        "outputId": "3a955068-9097-4aa9-a128-685d3fcd1d01"
      },
      "outputs": [
        {
          "output_type": "execute_result",
          "data": {
            "text/plain": [
              "array(['first-letter=c', 'first-letter=j', 'first2-letter=ch',\n",
              "       'first2-letter=ju', 'first3-letter=cha', 'first3-letter=jul',\n",
              "       'last-letter=a', 'last-letter=u', 'last2-letter=du',\n",
              "       'last2-letter=ia', 'last3-letter=lia', 'last3-letter=ndu'],\n",
              "      dtype=object)"
            ]
          },
          "metadata": {},
          "execution_count": 39
        }
      ],
      "source": [
        "dv.get_feature_names_out()"
      ]
    },
    {
      "cell_type": "code",
      "execution_count": 40,
      "id": "361ecce3",
      "metadata": {
        "id": "361ecce3"
      },
      "outputs": [],
      "source": [
        "dfX_train, dfX_test, dfy_train ,dfy_test = train_test_split(df_X, df_y, test_size = 0.2, random_state=42)"
      ]
    },
    {
      "cell_type": "code",
      "execution_count": 41,
      "id": "4e3ad946",
      "metadata": {
        "colab": {
          "base_uri": "https://localhost:8080/"
        },
        "id": "4e3ad946",
        "outputId": "baa58183-9132-47a3-d02b-bef671e51e4e"
      },
      "outputs": [
        {
          "output_type": "execute_result",
          "data": {
            "text/plain": [
              "array([{'first-letter': 't', 'first2-letter': 'te', 'first3-letter': 'tem', 'last-letter': 'a', 'last2-letter': 'ca', 'last3-letter': 'eca'},\n",
              "       {'first-letter': 'm', 'first2-letter': 'ma', 'first3-letter': 'mar', 'last-letter': 'd', 'last2-letter': 'id', 'last3-letter': 'rid'},\n",
              "       {'first-letter': 'a', 'first2-letter': 'av', 'first3-letter': 'ava', 'last-letter': 'e', 'last2-letter': 'se', 'last3-letter': 'ose'},\n",
              "       ...,\n",
              "       {'first-letter': 'n', 'first2-letter': 'ny', 'first3-letter': 'nya', 'last-letter': 'l', 'last2-letter': 'al', 'last3-letter': 'yal'},\n",
              "       {'first-letter': 't', 'first2-letter': 'ti', 'first3-letter': 'tin', 'last-letter': 'a', 'last2-letter': 'ya', 'last3-letter': 'iya'},\n",
              "       {'first-letter': 'a', 'first2-letter': 'ab', 'first3-letter': 'abb', 'last-letter': 'l', 'last2-letter': 'el', 'last3-letter': 'ael'}],\n",
              "      dtype=object)"
            ]
          },
          "metadata": {},
          "execution_count": 41
        }
      ],
      "source": [
        "dfX_train"
      ]
    },
    {
      "cell_type": "code",
      "execution_count": 42,
      "id": "d2336a26",
      "metadata": {
        "colab": {
          "base_uri": "https://localhost:8080/"
        },
        "id": "d2336a26",
        "outputId": "71e0efb1-63ac-4e2f-dda1-49da48245e0a"
      },
      "outputs": [
        {
          "output_type": "execute_result",
          "data": {
            "text/plain": [
              "<100184x9284 sparse matrix of type '<class 'numpy.float64'>'\n",
              "\twith 601104 stored elements in Compressed Sparse Row format>"
            ]
          },
          "metadata": {},
          "execution_count": 42
        }
      ],
      "source": [
        "dv = DictVectorizer()\n",
        "dv.fit_transform(dfX_train)"
      ]
    },
    {
      "cell_type": "code",
      "execution_count": 43,
      "id": "a50d3b89",
      "metadata": {
        "colab": {
          "base_uri": "https://localhost:8080/",
          "height": 74
        },
        "id": "a50d3b89",
        "outputId": "d0df17ac-4003-4913-d6d0-ee1cbecf0d91"
      },
      "outputs": [
        {
          "output_type": "execute_result",
          "data": {
            "text/plain": [
              "DecisionTreeClassifier()"
            ],
            "text/html": [
              "<style>#sk-container-id-1 {color: black;}#sk-container-id-1 pre{padding: 0;}#sk-container-id-1 div.sk-toggleable {background-color: white;}#sk-container-id-1 label.sk-toggleable__label {cursor: pointer;display: block;width: 100%;margin-bottom: 0;padding: 0.3em;box-sizing: border-box;text-align: center;}#sk-container-id-1 label.sk-toggleable__label-arrow:before {content: \"▸\";float: left;margin-right: 0.25em;color: #696969;}#sk-container-id-1 label.sk-toggleable__label-arrow:hover:before {color: black;}#sk-container-id-1 div.sk-estimator:hover label.sk-toggleable__label-arrow:before {color: black;}#sk-container-id-1 div.sk-toggleable__content {max-height: 0;max-width: 0;overflow: hidden;text-align: left;background-color: #f0f8ff;}#sk-container-id-1 div.sk-toggleable__content pre {margin: 0.2em;color: black;border-radius: 0.25em;background-color: #f0f8ff;}#sk-container-id-1 input.sk-toggleable__control:checked~div.sk-toggleable__content {max-height: 200px;max-width: 100%;overflow: auto;}#sk-container-id-1 input.sk-toggleable__control:checked~label.sk-toggleable__label-arrow:before {content: \"▾\";}#sk-container-id-1 div.sk-estimator input.sk-toggleable__control:checked~label.sk-toggleable__label {background-color: #d4ebff;}#sk-container-id-1 div.sk-label input.sk-toggleable__control:checked~label.sk-toggleable__label {background-color: #d4ebff;}#sk-container-id-1 input.sk-hidden--visually {border: 0;clip: rect(1px 1px 1px 1px);clip: rect(1px, 1px, 1px, 1px);height: 1px;margin: -1px;overflow: hidden;padding: 0;position: absolute;width: 1px;}#sk-container-id-1 div.sk-estimator {font-family: monospace;background-color: #f0f8ff;border: 1px dotted black;border-radius: 0.25em;box-sizing: border-box;margin-bottom: 0.5em;}#sk-container-id-1 div.sk-estimator:hover {background-color: #d4ebff;}#sk-container-id-1 div.sk-parallel-item::after {content: \"\";width: 100%;border-bottom: 1px solid gray;flex-grow: 1;}#sk-container-id-1 div.sk-label:hover label.sk-toggleable__label {background-color: #d4ebff;}#sk-container-id-1 div.sk-serial::before {content: \"\";position: absolute;border-left: 1px solid gray;box-sizing: border-box;top: 0;bottom: 0;left: 50%;z-index: 0;}#sk-container-id-1 div.sk-serial {display: flex;flex-direction: column;align-items: center;background-color: white;padding-right: 0.2em;padding-left: 0.2em;position: relative;}#sk-container-id-1 div.sk-item {position: relative;z-index: 1;}#sk-container-id-1 div.sk-parallel {display: flex;align-items: stretch;justify-content: center;background-color: white;position: relative;}#sk-container-id-1 div.sk-item::before, #sk-container-id-1 div.sk-parallel-item::before {content: \"\";position: absolute;border-left: 1px solid gray;box-sizing: border-box;top: 0;bottom: 0;left: 50%;z-index: -1;}#sk-container-id-1 div.sk-parallel-item {display: flex;flex-direction: column;z-index: 1;position: relative;background-color: white;}#sk-container-id-1 div.sk-parallel-item:first-child::after {align-self: flex-end;width: 50%;}#sk-container-id-1 div.sk-parallel-item:last-child::after {align-self: flex-start;width: 50%;}#sk-container-id-1 div.sk-parallel-item:only-child::after {width: 0;}#sk-container-id-1 div.sk-dashed-wrapped {border: 1px dashed gray;margin: 0 0.4em 0.5em 0.4em;box-sizing: border-box;padding-bottom: 0.4em;background-color: white;}#sk-container-id-1 div.sk-label label {font-family: monospace;font-weight: bold;display: inline-block;line-height: 1.2em;}#sk-container-id-1 div.sk-label-container {text-align: center;}#sk-container-id-1 div.sk-container {/* jupyter's `normalize.less` sets `[hidden] { display: none; }` but bootstrap.min.css set `[hidden] { display: none !important; }` so we also need the `!important` here to be able to override the default hidden behavior on the sphinx rendered scikit-learn.org. See: https://github.com/scikit-learn/scikit-learn/issues/21755 */display: inline-block !important;position: relative;}#sk-container-id-1 div.sk-text-repr-fallback {display: none;}</style><div id=\"sk-container-id-1\" class=\"sk-top-container\"><div class=\"sk-text-repr-fallback\"><pre>DecisionTreeClassifier()</pre><b>In a Jupyter environment, please rerun this cell to show the HTML representation or trust the notebook. <br />On GitHub, the HTML representation is unable to render, please try loading this page with nbviewer.org.</b></div><div class=\"sk-container\" hidden><div class=\"sk-item\"><div class=\"sk-estimator sk-toggleable\"><input class=\"sk-toggleable__control sk-hidden--visually\" id=\"sk-estimator-id-1\" type=\"checkbox\" checked><label for=\"sk-estimator-id-1\" class=\"sk-toggleable__label sk-toggleable__label-arrow\">DecisionTreeClassifier</label><div class=\"sk-toggleable__content\"><pre>DecisionTreeClassifier()</pre></div></div></div></div></div>"
            ]
          },
          "metadata": {},
          "execution_count": 43
        }
      ],
      "source": [
        "from sklearn.tree import DecisionTreeClassifier\n",
        "dclf = DecisionTreeClassifier()\n",
        "x_features = dv.transform(dfX_train)\n",
        "dclf.fit(x_features, dfy_train)"
      ]
    },
    {
      "cell_type": "code",
      "execution_count": 44,
      "id": "2df25316",
      "metadata": {
        "colab": {
          "base_uri": "https://localhost:8080/"
        },
        "id": "2df25316",
        "outputId": "f9cb477c-a6ad-4342-be81-7368ff1f395d"
      },
      "outputs": [
        {
          "output_type": "execute_result",
          "data": {
            "text/plain": [
              "array([0])"
            ]
          },
          "metadata": {},
          "execution_count": 44
        }
      ],
      "source": [
        "sample_name_eg = [\"Puja\"]\n",
        "transform_dv = dv.transform(features(sample_name_eg)).toarray()\n",
        "dclf.predict(transform_dv)"
      ]
    },
    {
      "cell_type": "code",
      "execution_count": 52,
      "id": "fa869be2",
      "metadata": {
        "colab": {
          "base_uri": "https://localhost:8080/"
        },
        "id": "fa869be2",
        "outputId": "02812f68-82d3-44b4-e74b-bab5b4cb1008"
      },
      "outputs": [
        {
          "output_type": "stream",
          "name": "stdout",
          "text": [
            "Female\n"
          ]
        }
      ],
      "source": [
        "name_eg1 = [\"Tanisha\"]\n",
        "transform_dv_1 = dv.transform(features(name_eg1)).toarray()\n",
        "vect_1 = dclf.predict(transform_dv_1)\n",
        "if vect_1==0:\n",
        "    print(\"Female\")\n",
        "else:\n",
        "    print(\"Male\")"
      ]
    },
    {
      "cell_type": "code",
      "source": [
        "name_eg1 = [\"Devansh\"]\n",
        "transform_dv_1 = dv.transform(features(name_eg1)).toarray()\n",
        "vect_1 = dclf.predict(transform_dv_1)\n",
        "if vect_1==0:\n",
        "    print(\"Female\")\n",
        "else:\n",
        "    print(\"Male\")"
      ],
      "metadata": {
        "colab": {
          "base_uri": "https://localhost:8080/"
        },
        "id": "D3NbD7SsZoEf",
        "outputId": "46e73315-9ab6-43bb-f16e-3ed1210d688f"
      },
      "id": "D3NbD7SsZoEf",
      "execution_count": 51,
      "outputs": [
        {
          "output_type": "stream",
          "name": "stdout",
          "text": [
            "Male\n"
          ]
        }
      ]
    },
    {
      "cell_type": "code",
      "execution_count": 46,
      "id": "c150cb64",
      "metadata": {
        "id": "c150cb64"
      },
      "outputs": [],
      "source": [
        "decistion_tree = open(\"decisiontree.pkl\",\"wb\")"
      ]
    },
    {
      "cell_type": "code",
      "execution_count": 47,
      "id": "f5371fae",
      "metadata": {
        "id": "f5371fae"
      },
      "outputs": [],
      "source": [
        "joblib.dump(dclf, decistion_tree)"
      ]
    },
    {
      "cell_type": "code",
      "execution_count": 48,
      "id": "a8dd1847",
      "metadata": {
        "id": "a8dd1847"
      },
      "outputs": [],
      "source": [
        "import pickle\n",
        "decistion_tree_01 = open(\"name_detector_model.pkl\",\"wb\")\n",
        "pickle.dump(dclf, decistion_tree_01)\n",
        "decistion_tree_01.close()"
      ]
    },
    {
      "cell_type": "code",
      "execution_count": 49,
      "id": "07a9ff93",
      "metadata": {
        "id": "07a9ff93"
      },
      "outputs": [],
      "source": [
        "naive_bayes =  open(\"naivebayes.pkl\",\"wb\")\n",
        "joblib.dump(clf, naive_bayes)\n",
        "naive_bayes.close()"
      ]
    },
    {
      "cell_type": "code",
      "execution_count": 49,
      "id": "584f5bf3",
      "metadata": {
        "id": "584f5bf3"
      },
      "outputs": [],
      "source": []
    }
  ],
  "metadata": {
    "kernelspec": {
      "display_name": "Python 3",
      "language": "python",
      "name": "python3"
    },
    "language_info": {
      "codemirror_mode": {
        "name": "ipython",
        "version": 3
      },
      "file_extension": ".py",
      "mimetype": "text/x-python",
      "name": "python",
      "nbconvert_exporter": "python",
      "pygments_lexer": "ipython3",
      "version": "3.8.5"
    },
    "colab": {
      "provenance": []
    }
  },
  "nbformat": 4,
  "nbformat_minor": 5
}